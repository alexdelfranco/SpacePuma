{
 "cells": [
  {
   "cell_type": "markdown",
   "id": "fb15d13d-a1e3-4f37-aa54-6706e433afbd",
   "metadata": {},
   "source": [
    "# Taming the Puma: Tutorial 1"
   ]
  },
  {
   "cell_type": "markdown",
   "id": "8cbcf854-f7a1-4f1d-a8a2-292182a5e0ad",
   "metadata": {},
   "source": [
    "## Outline"
   ]
  },
  {
   "cell_type": "markdown",
   "id": "8b3c5dd8-5757-47f2-8b9d-406c02e88db2",
   "metadata": {},
   "source": [
    "## Introduction"
   ]
  },
  {
   "cell_type": "markdown",
   "id": "2c166d21-9958-409e-be87-f838bbdb6384",
   "metadata": {},
   "source": [
    "```SpacePuma``` is an extension to matplotlib designed to allow easy, interactive modification to pre-existing data.\n",
    "\n",
    "There are multiple tools spread over six menus, each with separate controls that can interact with the user-input data."
   ]
  },
  {
   "cell_type": "markdown",
   "id": "47755dd6-9bb3-4caa-81c7-5def001e8db6",
   "metadata": {},
   "source": [
    "*N.B. As the embedded markdown interpreter in GitHub does not recognize the inclusion of iPython widgets, when viewing these tutorial notebooks, the interactive display may show up incorrectly. To avoid confusion, the tutorial cell outputs are followed by images of the correctly displayed set of tools.*"
   ]
  },
  {
   "cell_type": "markdown",
   "id": "30f2ec1b-1eff-4434-827c-353e09ba4b47",
   "metadata": {},
   "source": [
    "## Initializing a Puma instance"
   ]
  },
  {
   "cell_type": "markdown",
   "id": "d15b6335-6d08-4c24-8407-2f03ea231374",
   "metadata": {},
   "source": [
    "To start using ```SpacePuma```, we need to tell jupyter that we want to enable interactive features, specifically the matplotlib widgets:"
   ]
  },
  {
   "cell_type": "code",
   "execution_count": 1,
   "id": "ec83de49-6766-4a37-a662-ac7a06693147",
   "metadata": {},
   "outputs": [],
   "source": [
    "%matplotlib widget"
   ]
  },
  {
   "cell_type": "markdown",
   "id": "b2f0da27-0811-4ad0-9f15-ea17cfec01ba",
   "metadata": {},
   "source": [
    "Now, we can import the puma function from the package:"
   ]
  },
  {
   "cell_type": "code",
   "execution_count": 2,
   "id": "f783ed13-99ec-4f7e-935c-8eacb1aec55b",
   "metadata": {},
   "outputs": [],
   "source": [
    "from spacepuma import puma"
   ]
  },
  {
   "cell_type": "markdown",
   "id": "42b17e0b-4838-4926-842a-1266337d3ad2",
   "metadata": {},
   "source": [
    "Next, we can import our data. Here, we will simply define some test data in the form of two numpy arrays:"
   ]
  },
  {
   "cell_type": "code",
   "execution_count": 3,
   "id": "0fd24366-770e-4150-b602-7ee23f44e1a8",
   "metadata": {},
   "outputs": [],
   "source": [
    "# Import numpy\n",
    "import numpy as np\n",
    "# Create x and y arrays\n",
    "x = np.arange(100); y = np.exp(-1/2 * (((x-50)/10) ** 2))\n",
    "# Manumpulate the y array to add a bit of variation\n",
    "y[:60] += np.copy(y[25:85])\n",
    "y[40:] += np.copy(y[15:75])"
   ]
  },
  {
   "cell_type": "markdown",
   "id": "432d1222-03a9-472c-8200-317910b247db",
   "metadata": {},
   "source": [
    "Now that we have our data, we can initialize the interactive tool by calling the ```puma()``` method:"
   ]
  },
  {
   "cell_type": "code",
   "execution_count": null,
   "id": "aa158ece-3798-4613-a95f-997068cd69fb",
   "metadata": {},
   "outputs": [],
   "source": [
    "puma(data=[x,y])"
   ]
  },
  {
   "cell_type": "markdown",
   "id": "402f2c8c-8b5c-4e6c-a67b-03e5abba4c3c",
   "metadata": {},
   "source": [
    "![Blank Puma GUI](images/1.1-BlankPuma.png \"Blank Puma GUI\")"
   ]
  },
  {
   "cell_type": "markdown",
   "id": "f2d31f9a-2b2a-4a99-a4e4-df18580ad6f2",
   "metadata": {},
   "source": [
    "Running the above cell should produce a plot with an on/off toggle follwed by six menus. Each of these menus controls a different tool. Each tool is explained in detail throughout the next five tutorial notebooks, included in the ```SpacePuma``` GitHub repository."
   ]
  },
  {
   "cell_type": "markdown",
   "id": "190f8d02-1b29-4f6f-9a53-0ed11e4b6e22",
   "metadata": {},
   "source": [
    "## Turning the tools On and Off"
   ]
  },
  {
   "cell_type": "markdown",
   "id": "95ddeeb5-7b3b-42ac-b569-e9c088caeee1",
   "metadata": {},
   "source": [
    "The tool is always initialized in the On state, as can be seen by the pressed \"On\" button in the upper left hand corner of the menu. To disable the entire widget, the On/Off toggle can be clicked. This will close all active tools and disable all interactive features of the ```Puma``` instance. It is worth noting that only one ```Puma``` instance can be active at once. A disabled instance is shown below"
   ]
  },
  {
   "cell_type": "code",
   "execution_count": null,
   "id": "e25d241a-cb45-4be2-aa1d-aaac25ffc95e",
   "metadata": {},
   "outputs": [],
   "source": [
    "puma(data=[x,y])"
   ]
  },
  {
   "cell_type": "markdown",
   "id": "7ec01cd6-1bcd-488a-b168-de75c04dad51",
   "metadata": {},
   "source": [
    "![Blank Puma GUI](images/1.1-Off.png \"Blank Puma GUI\")"
   ]
  },
  {
   "cell_type": "markdown",
   "id": "2d2afe42-ed13-429f-bbf0-3ae16b19055c",
   "metadata": {},
   "source": [
    "## Accessing Data"
   ]
  },
  {
   "cell_type": "code",
   "execution_count": null,
   "id": "2284be8f-863d-4910-a2d0-8667e5d719b7",
   "metadata": {},
   "outputs": [],
   "source": []
  }
 ],
 "metadata": {
  "kernelspec": {
   "display_name": "Python 3 (ipykernel)",
   "language": "python",
   "name": "python3"
  },
  "language_info": {
   "codemirror_mode": {
    "name": "ipython",
    "version": 3
   },
   "file_extension": ".py",
   "mimetype": "text/x-python",
   "name": "python",
   "nbconvert_exporter": "python",
   "pygments_lexer": "ipython3",
   "version": "3.10.6"
  }
 },
 "nbformat": 4,
 "nbformat_minor": 5
}
