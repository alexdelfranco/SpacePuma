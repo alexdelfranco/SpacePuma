{
 "cells": [
  {
   "cell_type": "markdown",
   "id": "fb15d13d-a1e3-4f37-aa54-6706e433afbd",
   "metadata": {},
   "source": [
    "# SpacePuma"
   ]
  },
  {
   "cell_type": "markdown",
   "id": "8b3c5dd8-5757-47f2-8b9d-406c02e88db2",
   "metadata": {},
   "source": [
    "## What is it?"
   ]
  },
  {
   "cell_type": "markdown",
   "id": "2c166d21-9958-409e-be87-f838bbdb6384",
   "metadata": {},
   "source": [
    "```SpacePuma``` is an interactive extension to matplotlib designed for use within a jupyter environment. It was originally developed for the processing of astrochemical data but has demonstrated uses across a range of other data-handling fields. The extension combines a series of tools that allow for user input directly through a ```matplotlib```-powered GUI and indirectly through python. Data products, including figures, calculations, and data manipulations, can be exported to a python dictionary or saved through integration with ```pickle```. Customization of ```SpacePuma``` is possible and highly encouraged, with explanations of the necessary modifications covered in the tutorials. All the code is available publicly on GitHub."
   ]
  },
  {
   "cell_type": "markdown",
   "id": "30f2ec1b-1eff-4434-827c-353e09ba4b47",
   "metadata": {},
   "source": [
    "## Space Puma: Astrochemistry Code for Experiments Pertaining to the Understanding of More Astrochemisty"
   ]
  },
  {
   "cell_type": "markdown",
   "id": "d15b6335-6d08-4c24-8407-2f03ea231374",
   "metadata": {},
   "source": [
    "## How to install it?"
   ]
  },
  {
   "cell_type": "markdown",
   "id": "e0a4d4b3-5576-4084-89ff-cd099b502695",
   "metadata": {},
   "source": [
    "To install ```SpacePuma```, grab the latest version from PyPi using pip:\n",
    "\n",
    "```\n",
    "$ pip install spacepuma\n",
    "```\n",
    "\n",
    "This will install a couple of dependencies, including matplotlib, scipy, ipympl, and seaborn, each of which should be installed automatically if you don't already have them. To verify that everything installed properly, the tutorials should work without issue."
   ]
  },
  {
   "cell_type": "code",
   "execution_count": null,
   "id": "a9f1302f-bfd7-4905-a9e3-7681aba848f4",
   "metadata": {},
   "outputs": [],
   "source": []
  }
 ],
 "metadata": {
  "kernelspec": {
   "display_name": "Python 3 (ipykernel)",
   "language": "python",
   "name": "python3"
  },
  "language_info": {
   "codemirror_mode": {
    "name": "ipython",
    "version": 3
   },
   "file_extension": ".py",
   "mimetype": "text/x-python",
   "name": "python",
   "nbconvert_exporter": "python",
   "pygments_lexer": "ipython3",
   "version": "3.9.13"
  }
 },
 "nbformat": 4,
 "nbformat_minor": 5
}
