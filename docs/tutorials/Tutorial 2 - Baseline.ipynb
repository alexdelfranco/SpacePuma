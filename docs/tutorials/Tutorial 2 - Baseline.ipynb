{
 "cells": [
  {
   "cell_type": "markdown",
   "id": "83ec7f52-d7a7-4b49-8c26-bf85a7b64deb",
   "metadata": {},
   "source": [
    "# Tutorial 2: Baselines"
   ]
  },
  {
   "cell_type": "markdown",
   "id": "cfaac36f-30e2-4fea-a23f-d283c3f1b233",
   "metadata": {},
   "source": [
    "## Outline"
   ]
  },
  {
   "cell_type": "markdown",
   "id": "e05f556c-36c7-4f54-9191-ac84e527a2f5",
   "metadata": {},
   "source": [
    "## Setup"
   ]
  },
  {
   "cell_type": "markdown",
   "id": "dbcbb03a-610e-4e12-8a38-c9fbd463b5f8",
   "metadata": {},
   "source": [
    "As explained in the introductory tutorial, we must begin every ```SpacePuma``` instance by enabling the jupyter matplotlib widget extension."
   ]
  },
  {
   "cell_type": "code",
   "execution_count": 1,
   "id": "4eaee384-fdc5-42f4-9054-2851f7cf0ff8",
   "metadata": {},
   "outputs": [],
   "source": [
    "%matplotlib widget"
   ]
  },
  {
   "cell_type": "markdown",
   "id": "cd3fd286-3f54-4d57-a215-6e15fa426f11",
   "metadata": {},
   "source": [
    "We can then import the spacepuma package and define our data:"
   ]
  },
  {
   "cell_type": "code",
   "execution_count": 2,
   "id": "a4d16aa8-ee65-4d78-984d-bb4989178bbe",
   "metadata": {},
   "outputs": [],
   "source": [
    "from spacepuma import puma"
   ]
  },
  {
   "cell_type": "code",
   "execution_count": 3,
   "id": "cf12dc0b-2ea8-4b8f-afcc-991baf751d0b",
   "metadata": {},
   "outputs": [],
   "source": [
    "# Import numpy\n",
    "import numpy as np\n",
    "# Create x and y arrays\n",
    "x = np.arange(100); y = np.exp(-1/2 * (((x-50)/10) ** 2))\n",
    "# Manumpulate the y array to add a bit of variation\n",
    "y[:60] += np.copy(y[25:85])\n",
    "y[40:] += np.copy(y[15:75])"
   ]
  },
  {
   "cell_type": "markdown",
   "id": "dba5c301-fb1b-4a8c-9157-826c1c631bfb",
   "metadata": {},
   "source": [
    "To finish our setup, we can call the ```puma``` method with our included data. This cell will launch the set of interactive tools accessible through the top menu."
   ]
  },
  {
   "cell_type": "code",
   "execution_count": null,
   "id": "25f86b56-7687-4214-ab4a-ba1a3050ef34",
   "metadata": {},
   "outputs": [],
   "source": [
    "puma(data=[x,y])"
   ]
  },
  {
   "cell_type": "markdown",
   "id": "c3e44e5e-10b8-4774-b988-01340a9e1f16",
   "metadata": {},
   "source": [
    "![Blank Puma GUI](images/BlankPuma.png \"Blank Puma GUI\")"
   ]
  },
  {
   "cell_type": "markdown",
   "id": "fd240205-09f3-4209-bddf-da7d750ffcbf",
   "metadata": {},
   "source": [
    "## Selecting the Tool"
   ]
  },
  {
   "cell_type": "markdown",
   "id": "3c54891c-b41e-481e-8c15-f9273c34603f",
   "metadata": {},
   "source": [
    "From this tool menu running across the top of the plot, we can now select the **Baseline** tab. The baseline tool will allow us to construct a custom baseline function across our plotted data. Following the addition of a baseline, a secondary plot will automatically be displayed, showing the baseline-subtracted original data. This plot is also interactive and can be the subject of manipulation by any of the included ```Puma``` tools."
   ]
  },
  {
   "cell_type": "markdown",
   "id": "54e5d2e9-1678-4d20-ba37-de36103f3b52",
   "metadata": {},
   "source": [
    "![Baseline Tab](images/2.1-BaselineTab.png \"Baseline Tab\")"
   ]
  },
  {
   "cell_type": "markdown",
   "id": "172af376-a2d8-495f-99dd-0b27d91032d8",
   "metadata": {},
   "source": [
    "## Adding A Baseline"
   ]
  },
  {
   "cell_type": "markdown",
   "id": "5c88a375-7324-49d2-9e52-a4233f2af7cf",
   "metadata": {},
   "source": [
    "We now see displayed a menu allowing us to interface with the baseline tool. To add our new baseline, we simply click **Add Points**. Once toggled on, we are entered into a sort of \"Add Mode\" where we are able to click anywhere on the plotted data to add a segment of our new baseline. Below, we have added a single point near the first apex of our data."
   ]
  },
  {
   "cell_type": "markdown",
   "id": "aaa2f8e1-5b8c-485f-a3e9-b04bd5521cac",
   "metadata": {},
   "source": [
    "![Add Points](images/2.2-AddPoints.png \"Add Points\")"
   ]
  },
  {
   "cell_type": "markdown",
   "id": "37aa19c4-50d3-49ce-8182-0d061e6e9a0d",
   "metadata": {},
   "source": [
    "To add our baseline, we must add at least one more point. As soon as our second point is added, a new linear baseline will appear, overplotted and connecting our two points. In addition, a secondary plot will appear directly below our original figure. This plot will span the x-range of our baseline and will display our original data with the baseline subtracted from it. These two plots can be seen below:"
   ]
  },
  {
   "cell_type": "markdown",
   "id": "78b77c5c-5ba6-40b9-9877-30b8b8808d76",
   "metadata": {},
   "source": [
    "![Add Baseline](images/2.3-AddBaseline.png \"Add Baseline\")"
   ]
  },
  {
   "cell_type": "markdown",
   "id": "cb8a50d2-0ecc-4a48-a6fc-9ab1e9e8ecf1",
   "metadata": {},
   "source": [
    "The detial of this added baseline can be increased simply by adding more points. With the addition of each new point, the baseline will be updated to reflect the complexity. Linear segments will connect each point into the horizontal string of other user-input values."
   ]
  },
  {
   "cell_type": "markdown",
   "id": "bafdae29-bc22-4221-ad71-885be4180212",
   "metadata": {},
   "source": [
    "## Adjusting A Baseline"
   ]
  },
  {
   "cell_type": "markdown",
   "id": "54922bfe-0b9f-4abf-a0f6-c436f1b1237c",
   "metadata": {},
   "source": [
    "With a baseline of any complexity, one may wish to adjust the location of some points. This action can be accomplished through the use of the **Move Points** tool. Upon clicking the **Move Points** button, we are entered into a sort of \"Move Mode\" where every interaction with the plot attempts to move a prëexisting point. To demonstrate how to move a point, we can change the location of the point we first added to the center left of our plot."
   ]
  },
  {
   "cell_type": "markdown",
   "id": "91805687-5d72-41b1-946f-82708f23bb9c",
   "metadata": {},
   "source": [
    "We begin by clicking the **Move Points** button. We then click near the marker we want to move to select it. We know we have selected when it turns green, as seen below:"
   ]
  },
  {
   "cell_type": "markdown",
   "id": "78fe8a3e-88de-4696-a7de-5ea5a6279373",
   "metadata": {},
   "source": [
    "![Selected Point](images/2.4-SelectedPoint.png \"Selected Point\")"
   ]
  },
  {
   "cell_type": "markdown",
   "id": "403ca4ad-0059-405a-bec9-9af4ed533927",
   "metadata": {},
   "source": [
    "Once we have selected a point to move, we can simply drop it into its new locaiton by clicking again -- this time where want it to end up. This newly moved point will then be plotted in bright red, as seen below. The baseline-subtracted data will also update to automatically reflect the new range and scope of the baseline."
   ]
  },
  {
   "cell_type": "markdown",
   "id": "1fd8f4e6-2ebe-416d-82bd-24a3c3df0df6",
   "metadata": {},
   "source": [
    "![Moved Point](images/2.5-MovedPoint.png \"Moved Point\")"
   ]
  },
  {
   "cell_type": "markdown",
   "id": "4fab8f88-6e6e-40b5-99eb-e69146bcacea",
   "metadata": {},
   "source": [
    "## Deleting Points"
   ]
  },
  {
   "cell_type": "markdown",
   "id": "b18eb355-7566-4a49-b971-4fdc20e4984e",
   "metadata": {},
   "source": [
    "Similar to the adding and subtracting of points, the deletion of points can be accomplished by entering into a \"Delete Mode\" of sorts. Once the delete button is clicked, a click near a point will remove it from the baseline. The baseline subtracted data will also update in turn. Let us view a before and after of a slightly more complex baseline. Below we can see the baseline in its full glory:"
   ]
  },
  {
   "cell_type": "markdown",
   "id": "7e93d89f-fd74-4253-abe0-93281d24b098",
   "metadata": {},
   "source": [
    "![Complex Baseline](images/2.6-ComplexBaseline.png \"Complex Baseline\")"
   ]
  },
  {
   "cell_type": "markdown",
   "id": "b7037c43-e86a-4879-ad46-70da04f2c038",
   "metadata": {},
   "source": [
    "By clicking on the **Delete Points** button, we can now remove an unwanted point from the above baseline. After we click near the highest added point on our data, we can see in the figure below that it has been immediately removed and the baseline updated accordingly."
   ]
  },
  {
   "cell_type": "markdown",
   "id": "9df75a33-49c4-476f-b045-310b493414ed",
   "metadata": {},
   "source": [
    "![Deleted Point](images/2.7-DeletedPoint.png \"Deleted Point\")"
   ]
  },
  {
   "cell_type": "markdown",
   "id": "9bb90dc2-5a9c-42c3-baef-81bbffe9cf22",
   "metadata": {},
   "source": [
    "Finally, if enough points are removed to leave only a single remaining point, the baseline will be removed entirely along with the plot showing the baseline subtracted data. For example, if we were to remove the points on each end of the previous baseline, we would be left with the following:"
   ]
  },
  {
   "cell_type": "markdown",
   "id": "986fe65d-0a49-4992-9b44-3d9f81dd526b",
   "metadata": {},
   "source": [
    "![Baseline Deleted](images/2.8-BaselineDeleted.png \"Baseline Deleted\")"
   ]
  },
  {
   "cell_type": "markdown",
   "id": "34569b2d-4752-4980-9ff9-d4896495cfd5",
   "metadata": {
    "tags": []
   },
   "source": [
    "## Changing the Functional Form"
   ]
  },
  {
   "cell_type": "markdown",
   "id": "f0d6644d-dcfd-4b93-ac72-d85252c543cc",
   "metadata": {},
   "source": [
    "Connecting all the user-input baseline points are by default a series of connected line segments. While these segments can afford high precision when assigning a baseline, oftentimes it is useful to utilize the points as fitting parameters for a more complex functional form. In many cases, this form will comprise an nth order polynomial. To change the functional form used, simply select one from the **Functional Form** dropdown menu. Here we will change the form to a polynomial, whose order is by default one fewer than the number of points we have placed, up to order five."
   ]
  },
  {
   "cell_type": "markdown",
   "id": "3f86f209-0b97-4a32-aa84-30af7c974a77",
   "metadata": {},
   "source": [
    "After adding our points, we have a baseline with a linear segmented fit:"
   ]
  },
  {
   "cell_type": "markdown",
   "id": "21dfb1fd-98a1-4c56-9f15-df4abaa7a8ac",
   "metadata": {},
   "source": [
    "![Linear Fit](images/2.9-LinearFit.png \"Linear Fit\")"
   ]
  },
  {
   "cell_type": "markdown",
   "id": "470aa367-7e10-4d06-b061-8209b1e4d14c",
   "metadata": {},
   "source": [
    "To change to a polynomial fit, we can select \"Polynomial\" from the **Functional Form** dropdown menu. Upon selection, we see:"
   ]
  },
  {
   "cell_type": "markdown",
   "id": "d08f35cc-3c99-42a7-a83b-d7553d4dd976",
   "metadata": {},
   "source": [
    "![Polynomial Fit Ord5](images/2.10-PolyFit5.png \"Polynomial Fit Ord5\")"
   ]
  },
  {
   "cell_type": "markdown",
   "id": "78a61413-812b-4fdf-8452-b1f19cc12a6f",
   "metadata": {},
   "source": [
    "If this fit is too complex, i.e. of too high of an order, we can reduce the order to 2 using the **Order** input box that has appeared. This order can be changed at any point and will remain constant as points are added or removed. The fitted baseline will update dynamically as any changes are made. Here is an example of the same data with a fit order of 2:"
   ]
  },
  {
   "cell_type": "markdown",
   "id": "7f94dfda-da22-4fa1-8f94-635f8467daf9",
   "metadata": {},
   "source": [
    "![Polynomial Fit Ord2](images/2.11-PolyFit2.png \"Polynomial Fit Ord2\")"
   ]
  },
  {
   "cell_type": "markdown",
   "id": "6b15c695-99ad-423a-99b9-014084a5b8e8",
   "metadata": {},
   "source": [
    "## Clearing all points"
   ]
  },
  {
   "cell_type": "markdown",
   "id": "1a80a990-c2eb-4592-aadb-2a5e2fd869e8",
   "metadata": {},
   "source": [
    "On the off chance you would like to clear your baseline from a plot and start anew, you may simply click the **Clear Plot** button. This button will enter you into a \"Clear Mode\" of sorts. You will then be able to select which plot you would like to remove a baseline from (as multiple plots are able to support baseline interactivity) and all the plotted points will be removed. If we condider the data shown above, we may select the **Clear Plot** button and then click once on the top plot."
   ]
  },
  {
   "cell_type": "markdown",
   "id": "24489e35-c7b7-4948-9b5b-4dc80714f910",
   "metadata": {},
   "source": [
    "![Cleared](images/2.12-Cleared.png \"Cleared\")"
   ]
  },
  {
   "cell_type": "markdown",
   "id": "5a0234eb-1a76-4a3b-81ad-8c2d06d67398",
   "metadata": {},
   "source": [
    "And voila! We are back to where we started. We can add more points and make adjustments to our heart's content."
   ]
  },
  {
   "cell_type": "code",
   "execution_count": null,
   "id": "093dae94-2e17-44a9-9af1-fe3e41918ef6",
   "metadata": {},
   "outputs": [],
   "source": []
  },
  {
   "cell_type": "markdown",
   "id": "6907eba5-23ef-4061-ac8c-b7cc6ebebeef",
   "metadata": {},
   "source": [
    "## Advanced Use of the Baseline Tool"
   ]
  },
  {
   "cell_type": "markdown",
   "id": "49c4ec3f-8665-468d-89db-017ad83dbd61",
   "metadata": {},
   "source": []
  }
 ],
 "metadata": {
  "kernelspec": {
   "display_name": "Python 3 (ipykernel)",
   "language": "python",
   "name": "python3"
  },
  "language_info": {
   "codemirror_mode": {
    "name": "ipython",
    "version": 3
   },
   "file_extension": ".py",
   "mimetype": "text/x-python",
   "name": "python",
   "nbconvert_exporter": "python",
   "pygments_lexer": "ipython3",
   "version": "3.10.6"
  }
 },
 "nbformat": 4,
 "nbformat_minor": 5
}
